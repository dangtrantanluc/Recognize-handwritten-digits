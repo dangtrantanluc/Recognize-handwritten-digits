{
 "cells": [
  {
   "cell_type": "markdown",
   "id": "56c7094826fc3b4a",
   "metadata": {},
   "source": [
    "#load data"
   ]
  },
  {
   "cell_type": "code",
   "id": "4444a0a392aa949a",
   "metadata": {
    "ExecuteTime": {
     "end_time": "2024-11-07T16:12:45.596413Z",
     "start_time": "2024-11-07T16:12:45.581131Z"
    }
   },
   "source": [
    "import random\n",
    "import numpy as np\n",
    "\n",
    "class Network(object):\n",
    "    def __init__(self, sizes):\n",
    "        self.num_layers = len(sizes)\n",
    "        self.sizes = sizes\n",
    "        self.biases = [np.random.randn(y, 1) for y in sizes[1:]]\n",
    "        self.weights = [np.random.randn(y, x) for x, y in zip(sizes[:-1], sizes[1:])]\n",
    "\n",
    "    def feedforward(self, a):\n",
    "        for b, w in zip(self.biases, self.weights):\n",
    "            a = sigmoid(np.dot(w, a) + b)\n",
    "        return a\n",
    "\n",
    "    def Gradient_desent(self, training_data, epochs, mini_batch_size, eta, test_data=None):\n",
    "        if test_data:\n",
    "            n_test = len(test_data)\n",
    "        n = len(training_data)\n",
    "        for j in range(epochs):\n",
    "            random.shuffle(training_data)\n",
    "            mini_batches = [training_data[k:k + mini_batch_size]\n",
    "                            for k in range(0, n, mini_batch_size)]\n",
    "            for mini_batch in mini_batches:\n",
    "                self.update_mini_batch(mini_batch, eta)\n",
    "            if test_data:\n",
    "                print(\"Epoch {}: {}/{}\".format(j, self.evaluate(test_data), n_test))\n",
    "            else:\n",
    "                print(\"Epoch {} complete\".format(j))\n",
    "\n",
    "    def update_mini_batch(self, mini_batch, eta):\n",
    "        nabla_b = [np.zeros(b.shape) for b in self.biases]\n",
    "        nabla_w = [np.zeros(w.shape) for w in self.weights]\n",
    "        for x, y in mini_batch:\n",
    "            delta_nabla_b, delta_nabla_w = self.backprop(x, y)\n",
    "            nabla_b = [nb + dnb for nb, dnb in zip(nabla_b, delta_nabla_b)]\n",
    "            nabla_w = [nw + dnw for nw, dnw in zip(nabla_w, delta_nabla_w)]\n",
    "        self.weights = [w - (eta / len(mini_batch)) * nw for w, nw in zip(self.weights, nabla_w)]\n",
    "        self.biases = [b - (eta / len(mini_batch)) * nb for b, nb in zip(self.biases, nabla_b)]\n",
    "\n",
    "    def backprop(self, x, y):\n",
    "        nabla_b = [np.zeros(b.shape) for b in self.biases]\n",
    "        nabla_w = [np.zeros(w.shape) for w in self.weights]\n",
    "        \n",
    "        # Forward pass\n",
    "        activation = x\n",
    "        activations = [x] \n",
    "        zs = []  # List to store all z vectors, layer by layer\n",
    "        for b, w in zip(self.biases, self.weights):\n",
    "            z = np.dot(w, activation) + b\n",
    "            zs.append(z)\n",
    "            activation = sigmoid(z)\n",
    "            activations.append(activation)\n",
    "        \n",
    "        # Backward pass\n",
    "        delta = self.cost_derivative(activations[-1], y) * sigmoid_prime(zs[-1])\n",
    "        nabla_b[-1] = delta.reshape(-1, 1)  # Ensure delta is reshaped to (10, 1)\n",
    "        nabla_w[-1] = np.dot(delta, activations[-2].transpose())  # Calculate weight gradients\n",
    "        \n",
    "        for l in range(2, self.num_layers):\n",
    "            z = zs[-l]\n",
    "            sp = sigmoid_prime(z)\n",
    "            delta = np.dot(self.weights[-l + 1].transpose(), delta) * sp\n",
    "            nabla_b[-l] = delta.reshape(-1, 1)  # Ensure delta is reshaped to (30, 1) for previous layers\n",
    "            nabla_w[-l] = np.dot(delta, activations[-l - 1].transpose())  # Calculate weight gradients\n",
    "        \n",
    "        return nabla_b, nabla_w\n",
    "\n",
    "\n",
    "    def evaluate(self, test_data):\n",
    "        test_results = [(np.argmax(self.feedforward(x)), y) for (x, y) in test_data]\n",
    "        return sum(int(x == y) for (x, y) in test_results)\n",
    "\n",
    "    def cost_derivative(self, output_activations, y):\n",
    "        return (output_activations - y)\n",
    "\n",
    "# activate functions\n",
    "def sigmoid(z):\n",
    "    return 1.0 / (1.0 + np.exp(-z))\n",
    "\n",
    "def sigmoid_prime(z):\n",
    "    return sigmoid(z) * (1 - sigmoid(z))\n"
   ],
   "outputs": [],
   "execution_count": 2
  },
  {
   "cell_type": "code",
   "id": "40a73c07f1ec1edb",
   "metadata": {
    "ExecuteTime": {
     "end_time": "2024-11-07T16:17:02.856973Z",
     "start_time": "2024-11-07T16:17:02.391904Z"
    }
   },
   "source": [
    "# import tf\n",
    "# training_data, validation_data, test_data = tf.load_data()"
   ],
   "outputs": [
    {
     "ename": "ValueError",
     "evalue": "not enough values to unpack (expected 3, got 2)",
     "output_type": "error",
     "traceback": [
      "\u001B[1;31m---------------------------------------------------------------------------\u001B[0m",
      "\u001B[1;31mValueError\u001B[0m                                Traceback (most recent call last)",
      "Cell \u001B[1;32mIn[6], line 2\u001B[0m\n\u001B[0;32m      1\u001B[0m \u001B[38;5;28;01mimport\u001B[39;00m \u001B[38;5;21;01mtf\u001B[39;00m\n\u001B[1;32m----> 2\u001B[0m training_data, validation_data, test_data \u001B[38;5;241m=\u001B[39m tf\u001B[38;5;241m.\u001B[39mload_data()\n\u001B[0;32m      3\u001B[0m \u001B[38;5;66;03m# training_data, test_data = tf.load_data()\u001B[39;00m\n",
      "\u001B[1;31mValueError\u001B[0m: not enough values to unpack (expected 3, got 2)"
     ]
    }
   ],
   "execution_count": 6
  },
  {
   "cell_type": "code",
   "id": "40a6e69d3265555f",
   "metadata": {
    "ExecuteTime": {
     "end_time": "2024-11-07T16:14:58.882316Z",
     "start_time": "2024-11-07T16:14:58.773887Z"
    }
   },
   "source": [
    "net = Network([784, 30, 10])\n",
    "net.Gradient_desent(training_data, 30, 10,0.01, test_data=test_data)"
   ],
   "outputs": [
    {
     "ename": "ValueError",
     "evalue": "operands could not be broadcast together with shapes (10,30) (10,) ",
     "output_type": "error",
     "traceback": [
      "\u001B[1;31m---------------------------------------------------------------------------\u001B[0m",
      "\u001B[1;31mValueError\u001B[0m                                Traceback (most recent call last)",
      "Cell \u001B[1;32mIn[5], line 2\u001B[0m\n\u001B[0;32m      1\u001B[0m net \u001B[38;5;241m=\u001B[39m Network([\u001B[38;5;241m784\u001B[39m, \u001B[38;5;241m30\u001B[39m, \u001B[38;5;241m10\u001B[39m])\n\u001B[1;32m----> 2\u001B[0m \u001B[43mnet\u001B[49m\u001B[38;5;241;43m.\u001B[39;49m\u001B[43mGradient_desent\u001B[49m\u001B[43m(\u001B[49m\u001B[43mtraining_data\u001B[49m\u001B[43m,\u001B[49m\u001B[43m \u001B[49m\u001B[38;5;241;43m30\u001B[39;49m\u001B[43m,\u001B[49m\u001B[43m \u001B[49m\u001B[38;5;241;43m10\u001B[39;49m\u001B[43m,\u001B[49m\u001B[38;5;241;43m0.01\u001B[39;49m\u001B[43m,\u001B[49m\u001B[43m \u001B[49m\u001B[43mtest_data\u001B[49m\u001B[38;5;241;43m=\u001B[39;49m\u001B[43mtest_data\u001B[49m\u001B[43m)\u001B[49m\n",
      "Cell \u001B[1;32mIn[2], line 25\u001B[0m, in \u001B[0;36mNetwork.Gradient_desent\u001B[1;34m(self, training_data, epochs, mini_batch_size, eta, test_data)\u001B[0m\n\u001B[0;32m     22\u001B[0m mini_batches \u001B[38;5;241m=\u001B[39m [training_data[k:k \u001B[38;5;241m+\u001B[39m mini_batch_size]\n\u001B[0;32m     23\u001B[0m                 \u001B[38;5;28;01mfor\u001B[39;00m k \u001B[38;5;129;01min\u001B[39;00m \u001B[38;5;28mrange\u001B[39m(\u001B[38;5;241m0\u001B[39m, n, mini_batch_size)]\n\u001B[0;32m     24\u001B[0m \u001B[38;5;28;01mfor\u001B[39;00m mini_batch \u001B[38;5;129;01min\u001B[39;00m mini_batches:\n\u001B[1;32m---> 25\u001B[0m     \u001B[38;5;28;43mself\u001B[39;49m\u001B[38;5;241;43m.\u001B[39;49m\u001B[43mupdate_mini_batch\u001B[49m\u001B[43m(\u001B[49m\u001B[43mmini_batch\u001B[49m\u001B[43m,\u001B[49m\u001B[43m \u001B[49m\u001B[43meta\u001B[49m\u001B[43m)\u001B[49m\n\u001B[0;32m     26\u001B[0m \u001B[38;5;28;01mif\u001B[39;00m test_data:\n\u001B[0;32m     27\u001B[0m     \u001B[38;5;28mprint\u001B[39m(\u001B[38;5;124m\"\u001B[39m\u001B[38;5;124mEpoch \u001B[39m\u001B[38;5;132;01m{}\u001B[39;00m\u001B[38;5;124m: \u001B[39m\u001B[38;5;132;01m{}\u001B[39;00m\u001B[38;5;124m/\u001B[39m\u001B[38;5;132;01m{}\u001B[39;00m\u001B[38;5;124m\"\u001B[39m\u001B[38;5;241m.\u001B[39mformat(j, \u001B[38;5;28mself\u001B[39m\u001B[38;5;241m.\u001B[39mevaluate(test_data), n_test))\n",
      "Cell \u001B[1;32mIn[2], line 35\u001B[0m, in \u001B[0;36mNetwork.update_mini_batch\u001B[1;34m(self, mini_batch, eta)\u001B[0m\n\u001B[0;32m     33\u001B[0m nabla_w \u001B[38;5;241m=\u001B[39m [np\u001B[38;5;241m.\u001B[39mzeros(w\u001B[38;5;241m.\u001B[39mshape) \u001B[38;5;28;01mfor\u001B[39;00m w \u001B[38;5;129;01min\u001B[39;00m \u001B[38;5;28mself\u001B[39m\u001B[38;5;241m.\u001B[39mweights]\n\u001B[0;32m     34\u001B[0m \u001B[38;5;28;01mfor\u001B[39;00m x, y \u001B[38;5;129;01min\u001B[39;00m mini_batch:\n\u001B[1;32m---> 35\u001B[0m     delta_nabla_b, delta_nabla_w \u001B[38;5;241m=\u001B[39m \u001B[38;5;28;43mself\u001B[39;49m\u001B[38;5;241;43m.\u001B[39;49m\u001B[43mbackprop\u001B[49m\u001B[43m(\u001B[49m\u001B[43mx\u001B[49m\u001B[43m,\u001B[49m\u001B[43m \u001B[49m\u001B[43my\u001B[49m\u001B[43m)\u001B[49m\n\u001B[0;32m     36\u001B[0m     nabla_b \u001B[38;5;241m=\u001B[39m [nb \u001B[38;5;241m+\u001B[39m dnb \u001B[38;5;28;01mfor\u001B[39;00m nb, dnb \u001B[38;5;129;01min\u001B[39;00m \u001B[38;5;28mzip\u001B[39m(nabla_b, delta_nabla_b)]\n\u001B[0;32m     37\u001B[0m     nabla_w \u001B[38;5;241m=\u001B[39m [nw \u001B[38;5;241m+\u001B[39m dnw \u001B[38;5;28;01mfor\u001B[39;00m nw, dnw \u001B[38;5;129;01min\u001B[39;00m \u001B[38;5;28mzip\u001B[39m(nabla_w, delta_nabla_w)]\n",
      "Cell \u001B[1;32mIn[2], line 56\u001B[0m, in \u001B[0;36mNetwork.backprop\u001B[1;34m(self, x, y)\u001B[0m\n\u001B[0;32m     53\u001B[0m     activations\u001B[38;5;241m.\u001B[39mappend(activation)\n\u001B[0;32m     55\u001B[0m \u001B[38;5;66;03m# Backward pass\u001B[39;00m\n\u001B[1;32m---> 56\u001B[0m delta \u001B[38;5;241m=\u001B[39m \u001B[38;5;28;43mself\u001B[39;49m\u001B[38;5;241;43m.\u001B[39;49m\u001B[43mcost_derivative\u001B[49m\u001B[43m(\u001B[49m\u001B[43mactivations\u001B[49m\u001B[43m[\u001B[49m\u001B[38;5;241;43m-\u001B[39;49m\u001B[38;5;241;43m1\u001B[39;49m\u001B[43m]\u001B[49m\u001B[43m,\u001B[49m\u001B[43m \u001B[49m\u001B[43my\u001B[49m\u001B[43m)\u001B[49m \u001B[38;5;241m*\u001B[39m sigmoid_prime(zs[\u001B[38;5;241m-\u001B[39m\u001B[38;5;241m1\u001B[39m])\n\u001B[0;32m     57\u001B[0m nabla_b[\u001B[38;5;241m-\u001B[39m\u001B[38;5;241m1\u001B[39m] \u001B[38;5;241m=\u001B[39m delta\u001B[38;5;241m.\u001B[39mreshape(\u001B[38;5;241m-\u001B[39m\u001B[38;5;241m1\u001B[39m, \u001B[38;5;241m1\u001B[39m)  \u001B[38;5;66;03m# Ensure delta is reshaped to (10, 1)\u001B[39;00m\n\u001B[0;32m     58\u001B[0m nabla_w[\u001B[38;5;241m-\u001B[39m\u001B[38;5;241m1\u001B[39m] \u001B[38;5;241m=\u001B[39m np\u001B[38;5;241m.\u001B[39mdot(delta, activations[\u001B[38;5;241m-\u001B[39m\u001B[38;5;241m2\u001B[39m]\u001B[38;5;241m.\u001B[39mtranspose())  \u001B[38;5;66;03m# Calculate weight gradients\u001B[39;00m\n",
      "Cell \u001B[1;32mIn[2], line 75\u001B[0m, in \u001B[0;36mNetwork.cost_derivative\u001B[1;34m(self, output_activations, y)\u001B[0m\n\u001B[0;32m     74\u001B[0m \u001B[38;5;28;01mdef\u001B[39;00m \u001B[38;5;21mcost_derivative\u001B[39m(\u001B[38;5;28mself\u001B[39m, output_activations, y):\n\u001B[1;32m---> 75\u001B[0m     \u001B[38;5;28;01mreturn\u001B[39;00m (\u001B[43moutput_activations\u001B[49m\u001B[43m \u001B[49m\u001B[38;5;241;43m-\u001B[39;49m\u001B[43m \u001B[49m\u001B[43my\u001B[49m)\n",
      "\u001B[1;31mValueError\u001B[0m: operands could not be broadcast together with shapes (10,30) (10,) "
     ]
    }
   ],
   "execution_count": 5
  },
  {
   "cell_type": "code",
   "id": "3bb9664a03082e21",
   "metadata": {
    "ExecuteTime": {
     "end_time": "2024-11-07T16:18:12.469650Z",
     "start_time": "2024-11-07T16:18:12.317253Z"
    }
   },
   "source": [
    "import mnist_loader\n",
    "training_data, validation_data, test_data = mnist_loader.load_data_wrapper()"
   ],
   "outputs": [
    {
     "ename": "FileNotFoundError",
     "evalue": "[Errno 2] No such file or directory: 'file.zip'",
     "output_type": "error",
     "traceback": [
      "\u001B[1;31m---------------------------------------------------------------------------\u001B[0m",
      "\u001B[1;31mFileNotFoundError\u001B[0m                         Traceback (most recent call last)",
      "Cell \u001B[1;32mIn[7], line 2\u001B[0m\n\u001B[0;32m      1\u001B[0m \u001B[38;5;28;01mimport\u001B[39;00m \u001B[38;5;21;01mmnist_loader\u001B[39;00m\n\u001B[1;32m----> 2\u001B[0m training_data, validation_data, test_data \u001B[38;5;241m=\u001B[39m \u001B[43mmnist_loader\u001B[49m\u001B[38;5;241;43m.\u001B[39;49m\u001B[43mload_data_wrapper\u001B[49m\u001B[43m(\u001B[49m\u001B[43m)\u001B[49m\n",
      "File \u001B[1;32m~\\PycharmProjects\\HandwritingRecognition\\mnist_loader.py:17\u001B[0m, in \u001B[0;36mload_data_wrapper\u001B[1;34m()\u001B[0m\n\u001B[0;32m     16\u001B[0m \u001B[38;5;28;01mdef\u001B[39;00m \u001B[38;5;21mload_data_wrapper\u001B[39m():\n\u001B[1;32m---> 17\u001B[0m     tr_d, va_d, te_d \u001B[38;5;241m=\u001B[39m \u001B[43mload_data\u001B[49m\u001B[43m(\u001B[49m\u001B[43m)\u001B[49m\n\u001B[0;32m     18\u001B[0m     training_inputs \u001B[38;5;241m=\u001B[39m [np\u001B[38;5;241m.\u001B[39mreshape(x, (\u001B[38;5;241m784\u001B[39m, \u001B[38;5;241m1\u001B[39m)) \u001B[38;5;28;01mfor\u001B[39;00m x \u001B[38;5;129;01min\u001B[39;00m tr_d[\u001B[38;5;241m0\u001B[39m]]\n\u001B[0;32m     19\u001B[0m     training_results \u001B[38;5;241m=\u001B[39m [vectorized_result(y) \u001B[38;5;28;01mfor\u001B[39;00m y \u001B[38;5;129;01min\u001B[39;00m tr_d[\u001B[38;5;241m1\u001B[39m]]\n",
      "File \u001B[1;32m~\\PycharmProjects\\HandwritingRecognition\\mnist_loader.py:6\u001B[0m, in \u001B[0;36mload_data\u001B[1;34m()\u001B[0m\n\u001B[0;32m      5\u001B[0m \u001B[38;5;28;01mdef\u001B[39;00m \u001B[38;5;21mload_data\u001B[39m():\n\u001B[1;32m----> 6\u001B[0m     \u001B[38;5;28;01mwith\u001B[39;00m \u001B[43mzipfile\u001B[49m\u001B[38;5;241;43m.\u001B[39;49m\u001B[43mZipFile\u001B[49m\u001B[43m(\u001B[49m\u001B[38;5;124;43m'\u001B[39;49m\u001B[38;5;124;43mfile.zip\u001B[39;49m\u001B[38;5;124;43m'\u001B[39;49m\u001B[43m,\u001B[49m\u001B[43m \u001B[49m\u001B[38;5;124;43m'\u001B[39;49m\u001B[38;5;124;43mr\u001B[39;49m\u001B[38;5;124;43m'\u001B[39;49m\u001B[43m)\u001B[49m \u001B[38;5;28;01mas\u001B[39;00m zip_ref:\n\u001B[0;32m      7\u001B[0m         zip_ref\u001B[38;5;241m.\u001B[39mextractall(\u001B[38;5;124m'\u001B[39m\u001B[38;5;124mD://DangTranTanLuc//Python//HandwritingRecognition//data//\u001B[39m\u001B[38;5;124m'\u001B[39m)\n\u001B[0;32m      8\u001B[0m     \u001B[38;5;28mprint\u001B[39m(\u001B[38;5;124m\"\u001B[39m\u001B[38;5;124mabc\u001B[39m\u001B[38;5;124m\"\u001B[39m)\n",
      "File \u001B[1;32mC:\\Program Files\\Python312\\Lib\\zipfile\\__init__.py:1331\u001B[0m, in \u001B[0;36mZipFile.__init__\u001B[1;34m(self, file, mode, compression, allowZip64, compresslevel, strict_timestamps, metadata_encoding)\u001B[0m\n\u001B[0;32m   1329\u001B[0m \u001B[38;5;28;01mwhile\u001B[39;00m \u001B[38;5;28;01mTrue\u001B[39;00m:\n\u001B[0;32m   1330\u001B[0m     \u001B[38;5;28;01mtry\u001B[39;00m:\n\u001B[1;32m-> 1331\u001B[0m         \u001B[38;5;28mself\u001B[39m\u001B[38;5;241m.\u001B[39mfp \u001B[38;5;241m=\u001B[39m \u001B[43mio\u001B[49m\u001B[38;5;241;43m.\u001B[39;49m\u001B[43mopen\u001B[49m\u001B[43m(\u001B[49m\u001B[43mfile\u001B[49m\u001B[43m,\u001B[49m\u001B[43m \u001B[49m\u001B[43mfilemode\u001B[49m\u001B[43m)\u001B[49m\n\u001B[0;32m   1332\u001B[0m     \u001B[38;5;28;01mexcept\u001B[39;00m \u001B[38;5;167;01mOSError\u001B[39;00m:\n\u001B[0;32m   1333\u001B[0m         \u001B[38;5;28;01mif\u001B[39;00m filemode \u001B[38;5;129;01min\u001B[39;00m modeDict:\n",
      "\u001B[1;31mFileNotFoundError\u001B[0m: [Errno 2] No such file or directory: 'file.zip'"
     ]
    }
   ],
   "execution_count": 7
  }
 ],
 "metadata": {
  "kernelspec": {
   "display_name": "Python 3 (ipykernel)",
   "language": "python",
   "name": "python3"
  },
  "language_info": {
   "codemirror_mode": {
    "name": "ipython",
    "version": 3
   },
   "file_extension": ".py",
   "mimetype": "text/x-python",
   "name": "python",
   "nbconvert_exporter": "python",
   "pygments_lexer": "ipython3",
   "version": "3.12.7"
  }
 },
 "nbformat": 4,
 "nbformat_minor": 5
}
